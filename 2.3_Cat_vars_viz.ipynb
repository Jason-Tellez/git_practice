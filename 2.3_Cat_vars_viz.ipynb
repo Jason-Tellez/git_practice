{
 "cells": [
  {
   "cell_type": "code",
   "execution_count": 15,
   "id": "f8aa990b-f1a5-4d20-bbcb-c54e62d2f320",
   "metadata": {},
   "outputs": [],
   "source": [
    "import pandas as pd\n",
    "import numpy as np\n",
    "import matplotlib.pyplot as plt\n",
    "import seaborn as sns"
   ]
  },
  {
   "cell_type": "code",
   "execution_count": 27,
   "id": "f147cb30-dc79-40fa-91ef-05984d1ade76",
   "metadata": {},
   "outputs": [],
   "source": [
    "ice_cream = {\"location\": [\"LA\", \"NY\", \"SF\"],\n",
    "            \"units_sold\": [17129, 12327, 19923]\n",
    "            }"
   ]
  },
  {
   "cell_type": "code",
   "execution_count": 28,
   "id": "4bafca45-ab91-4152-8844-fc232713d213",
   "metadata": {},
   "outputs": [
    {
     "data": {
      "text/plain": [
       "{'location': ['LA', 'NY', 'SF'], 'units_sold': [17129, 12327, 19923]}"
      ]
     },
     "execution_count": 28,
     "metadata": {},
     "output_type": "execute_result"
    }
   ],
   "source": [
    "ice_cream"
   ]
  },
  {
   "cell_type": "markdown",
   "id": "1057a35a-cd54-4319-bffb-3827306c7174",
   "metadata": {},
   "source": [
    "ice_cream = {\"location\": {\"LA\", \"NY\", \"SF\"]: 17129,\n",
    "             \"NY\": 12327,\n",
    "             \"SF\": 19923\n",
    "            }"
   ]
  },
  {
   "cell_type": "code",
   "execution_count": 29,
   "id": "b3025755-2e27-4b77-9779-6381fe5588ac",
   "metadata": {},
   "outputs": [],
   "source": [
    "df = pd.DataFrame(ice_cream)"
   ]
  },
  {
   "cell_type": "code",
   "execution_count": 58,
   "id": "82259b48-e3dd-492b-8b52-ba5f2fdb3b9e",
   "metadata": {},
   "outputs": [
    {
     "data": {
      "text/plain": [
       "<BarContainer object of 3 artists>"
      ]
     },
     "execution_count": 58,
     "metadata": {},
     "output_type": "execute_result"
    },
    {
     "data": {
      "image/png": "[encoded data removed]",
      "text/plain": [
       "<Figure size 432x288 with 1 Axes>"
      ]
     },
     "metadata": {
      "needs_background": "light"
     },
     "output_type": "display_data"
    }
   ],
   "source": [
    "plt.bar(x=df.location, height=df.units_sold)"
   ]
  },
  {
   "cell_type": "code",
   "execution_count": 59,
   "id": "4f17d95f-e1b0-4d77-a50d-72bb8a775809",
   "metadata": {},
   "outputs": [
    {
     "data": {
      "text/plain": [
       "49379"
      ]
     },
     "execution_count": 59,
     "metadata": {},
     "output_type": "execute_result"
    }
   ],
   "source": [
    " df.units_sold.sum()"
   ]
  },
  {
   "cell_type": "code",
   "execution_count": 65,
   "id": "9ea8d0d5-46fc-4bcc-a9cf-1f560c92e6fe",
   "metadata": {},
   "outputs": [],
   "source": [
    "rel_freq = lambda x: round(x / df.units_sold.sum(), 2)"
   ]
  },
  {
   "cell_type": "code",
   "execution_count": 66,
   "id": "40e16212-9790-449c-9617-0a55a2e136ce",
   "metadata": {},
   "outputs": [],
   "source": [
    "df[\"relative_freq\"] = df.units_sold.apply(rel_freq)"
   ]
  },
  {
   "cell_type": "code",
   "execution_count": 77,
   "id": "061b4a52-9f62-4597-a97e-b1151016ae08",
   "metadata": {},
   "outputs": [
    {
     "data": {
      "text/plain": [
       "([<matplotlib.patches.Wedge at 0x23ed29f7700>,\n",
       "  <matplotlib.patches.Wedge at 0x23ed29f7be0>,\n",
       "  <matplotlib.patches.Wedge at 0x23ed2a24130>],\n",
       " [Text(0.4993895680663529, 0.9801071672559597, 'LA'),\n",
       "  Text(-1.086457168210212, 0.17207795223283895, 'NY'),\n",
       "  Text(0.3399186742226881, -1.0461621742897658, 'SF')])"
      ]
     },
     "execution_count": 77,
     "metadata": {},
     "output_type": "execute_result"
    },
    {
     "data": {
      "image/png": "[encoded data removed]",
      "text/plain": [
       "<Figure size 432x288 with 1 Axes>"
      ]
     },
     "metadata": {},
     "output_type": "display_data"
    }
   ],
   "source": [
    "plt.pie(x=df.relative_freq, labels=[\"LA\", \"NY\", \"SF\"])"
   ]
  },
  {
   "cell_type": "code",
   "execution_count": null,
   "id": "dcaebfe1-9880-40fc-95aa-04a57e2b881c",
   "metadata": {},
   "outputs": [],
   "source": [
    "# cummulative frequency\n",
    "[x, "
   ]
  }
 ],
 "metadata": {
  "kernelspec": {
   "display_name": "Python 3 (ipykernel)",
   "language": "python",
   "name": "python3"
  },
  "language_info": {
   "codemirror_mode": {
    "name": "ipython",
    "version": 3
   },
   "file_extension": ".py",
   "mimetype": "text/x-python",
   "name": "python",
   "nbconvert_exporter": "python",
   "pygments_lexer": "ipython3",
   "version": "3.10.1"
  }
 },
 "nbformat": 4,
 "nbformat_minor": 5
}
